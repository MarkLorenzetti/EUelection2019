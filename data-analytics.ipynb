{
 "cells": [
  {
   "cell_type": "code",
   "execution_count": 1,
   "metadata": {},
   "outputs": [],
   "source": [
    "import pandas as pd\n",
    "import matplotlib.pyplot as plt\n",
    "import seaborn as sns\n",
    "sns.set_style('whitegrid')\n",
    "%matplotlib inline"
   ]
  },
  {
   "cell_type": "code",
   "execution_count": 2,
   "metadata": {},
   "outputs": [],
   "source": [
    "import re\n",
    "import string \n",
    "from nltk.tokenize import TweetTokenizer \n",
    "from nltk.corpus import stopwords"
   ]
  },
  {
   "cell_type": "code",
   "execution_count": 3,
   "metadata": {},
   "outputs": [],
   "source": [
    "df = pd.read_csv(\"EuropeanElection2019_EN.csv\")"
   ]
  },
  {
   "cell_type": "code",
   "execution_count": 4,
   "metadata": {},
   "outputs": [
    {
     "data": {
      "text/html": [
       "<div>\n",
       "<style scoped>\n",
       "    .dataframe tbody tr th:only-of-type {\n",
       "        vertical-align: middle;\n",
       "    }\n",
       "\n",
       "    .dataframe tbody tr th {\n",
       "        vertical-align: top;\n",
       "    }\n",
       "\n",
       "    .dataframe thead th {\n",
       "        text-align: right;\n",
       "    }\n",
       "</style>\n",
       "<table border=\"1\" class=\"dataframe\">\n",
       "  <thead>\n",
       "    <tr style=\"text-align: right;\">\n",
       "      <th></th>\n",
       "      <th>id</th>\n",
       "      <th>country</th>\n",
       "      <th>time_stamp</th>\n",
       "      <th>lang</th>\n",
       "      <th>text</th>\n",
       "    </tr>\n",
       "  </thead>\n",
       "  <tbody>\n",
       "    <tr>\n",
       "      <th>0</th>\n",
       "      <td>1126171395703152640</td>\n",
       "      <td>NaN</td>\n",
       "      <td>Wed May 08 17:05:58 +0000 2019</td>\n",
       "      <td>en</td>\n",
       "      <td>Facebook now allows EU-wide political campaign...</td>\n",
       "    </tr>\n",
       "    <tr>\n",
       "      <th>1</th>\n",
       "      <td>1126171374169538561</td>\n",
       "      <td>NaN</td>\n",
       "      <td>Wed May 08 17:05:53 +0000 2019</td>\n",
       "      <td>nl</td>\n",
       "      <td>.@HansBrusselmans is een ding nu. Heeft Twitte...</td>\n",
       "    </tr>\n",
       "    <tr>\n",
       "      <th>2</th>\n",
       "      <td>1126171328195829761</td>\n",
       "      <td>NaN</td>\n",
       "      <td>Wed May 08 17:05:42 +0000 2019</td>\n",
       "      <td>de</td>\n",
       "      <td>RT @VolkerRahn: Protestantische Partnerkirchen...</td>\n",
       "    </tr>\n",
       "    <tr>\n",
       "      <th>3</th>\n",
       "      <td>1126171318204940293</td>\n",
       "      <td>NaN</td>\n",
       "      <td>Wed May 08 17:05:40 +0000 2019</td>\n",
       "      <td>en</td>\n",
       "      <td>RT @TommySheppard: Truth is it doesn't matter ...</td>\n",
       "    </tr>\n",
       "    <tr>\n",
       "      <th>4</th>\n",
       "      <td>1126171305047416833</td>\n",
       "      <td>NaN</td>\n",
       "      <td>Wed May 08 17:05:37 +0000 2019</td>\n",
       "      <td>fr</td>\n",
       "      <td>@bbclaurak Vote @brexitparty_uk! 🥳 #ForDemocr...</td>\n",
       "    </tr>\n",
       "  </tbody>\n",
       "</table>\n",
       "</div>"
      ],
      "text/plain": [
       "                    id country                      time_stamp lang  \\\n",
       "0  1126171395703152640     NaN  Wed May 08 17:05:58 +0000 2019   en   \n",
       "1  1126171374169538561     NaN  Wed May 08 17:05:53 +0000 2019   nl   \n",
       "2  1126171328195829761     NaN  Wed May 08 17:05:42 +0000 2019   de   \n",
       "3  1126171318204940293     NaN  Wed May 08 17:05:40 +0000 2019   en   \n",
       "4  1126171305047416833     NaN  Wed May 08 17:05:37 +0000 2019   fr   \n",
       "\n",
       "                                                text  \n",
       "0  Facebook now allows EU-wide political campaign...  \n",
       "1  .@HansBrusselmans is een ding nu. Heeft Twitte...  \n",
       "2  RT @VolkerRahn: Protestantische Partnerkirchen...  \n",
       "3  RT @TommySheppard: Truth is it doesn't matter ...  \n",
       "4  @bbclaurak Vote @brexitparty_uk! 🥳 #ForDemocr...  "
      ]
     },
     "execution_count": 4,
     "metadata": {},
     "output_type": "execute_result"
    }
   ],
   "source": [
    "df.head()"
   ]
  },
  {
   "cell_type": "code",
   "execution_count": 29,
   "metadata": {},
   "outputs": [
    {
     "name": "stdout",
     "output_type": "stream",
     "text": [
      "<class 'pandas.core.frame.DataFrame'>\n",
      "Int64Index: 363922 entries, 0 to 442729\n",
      "Data columns (total 9 columns):\n",
      "id            363922 non-null object\n",
      "country       3245 non-null object\n",
      "time_stamp    363922 non-null object\n",
      "lang          363922 non-null object\n",
      "text          363922 non-null object\n",
      "length        363922 non-null int64\n",
      "TimeStamp     363921 non-null datetime64[ns, UTC]\n",
      "Date          363921 non-null object\n",
      "is_retweet    363922 non-null bool\n",
      "dtypes: bool(1), datetime64[ns, UTC](1), int64(1), object(6)\n",
      "memory usage: 25.3+ MB\n"
     ]
    }
   ],
   "source": [
    "df.info()"
   ]
  },
  {
   "cell_type": "code",
   "execution_count": 28,
   "metadata": {},
   "outputs": [
    {
     "data": {
      "text/plain": [
       "363922"
      ]
     },
     "execution_count": 28,
     "metadata": {},
     "output_type": "execute_result"
    }
   ],
   "source": [
    "len(df)"
   ]
  },
  {
   "cell_type": "code",
   "execution_count": 23,
   "metadata": {},
   "outputs": [],
   "source": [
    "from pandas import DataFrame \n",
    "df = DataFrame.drop_duplicates(df)"
   ]
  },
  {
   "cell_type": "code",
   "execution_count": 27,
   "metadata": {},
   "outputs": [
    {
     "data": {
      "text/plain": [
       "363922"
      ]
     },
     "execution_count": 27,
     "metadata": {},
     "output_type": "execute_result"
    }
   ],
   "source": [
    "len(df)"
   ]
  },
  {
   "cell_type": "code",
   "execution_count": 88,
   "metadata": {},
   "outputs": [
    {
     "data": {
      "text/plain": [
       "United Kingdom     1700\n",
       "Belgium             356\n",
       "Ireland             264\n",
       "Germany             186\n",
       "The Netherlands     104\n",
       "France               93\n",
       "Spain                92\n",
       "Italy                80\n",
       "Finland              36\n",
       "Cyprus               31\n",
       "Name: country, dtype: int64"
      ]
     },
     "execution_count": 88,
     "metadata": {},
     "output_type": "execute_result"
    }
   ],
   "source": [
    "tweets_by_country = df['country'].value_counts()\n",
    "tweets_by_country.head(10)"
   ]
  },
  {
   "cell_type": "code",
   "execution_count": 89,
   "metadata": {},
   "outputs": [
    {
     "data": {
      "text/plain": [
       "en     332739\n",
       "fr       6213\n",
       "und      5650\n",
       "de       4047\n",
       "es       3847\n",
       "el       2360\n",
       "nl       2288\n",
       "it       2124\n",
       "ca       1459\n",
       "pl        484\n",
       "Name: lang, dtype: int64"
      ]
     },
     "execution_count": 89,
     "metadata": {},
     "output_type": "execute_result"
    }
   ],
   "source": [
    "tweets_by_lang = df['lang'].value_counts()\n",
    "tweets_by_lang.head(10)"
   ]
  },
  {
   "cell_type": "code",
   "execution_count": 90,
   "metadata": {},
   "outputs": [
    {
     "data": {
      "text/html": [
       "<div>\n",
       "<style scoped>\n",
       "    .dataframe tbody tr th:only-of-type {\n",
       "        vertical-align: middle;\n",
       "    }\n",
       "\n",
       "    .dataframe tbody tr th {\n",
       "        vertical-align: top;\n",
       "    }\n",
       "\n",
       "    .dataframe thead th {\n",
       "        text-align: right;\n",
       "    }\n",
       "</style>\n",
       "<table border=\"1\" class=\"dataframe\">\n",
       "  <thead>\n",
       "    <tr style=\"text-align: right;\">\n",
       "      <th></th>\n",
       "      <th>text</th>\n",
       "      <th>counts</th>\n",
       "    </tr>\n",
       "  </thead>\n",
       "  <tbody>\n",
       "    <tr>\n",
       "      <th>51995</th>\n",
       "      <td>RT @GretaThunberg: The top 5 most important is...</td>\n",
       "      <td>11700</td>\n",
       "    </tr>\n",
       "    <tr>\n",
       "      <th>51073</th>\n",
       "      <td>RT @Femi_Sorry: THREAD of things about Nigel F...</td>\n",
       "      <td>4020</td>\n",
       "    </tr>\n",
       "    <tr>\n",
       "      <th>56952</th>\n",
       "      <td>RT @PartisanDE: More evidence how inhuman #Mac...</td>\n",
       "      <td>3569</td>\n",
       "    </tr>\n",
       "    <tr>\n",
       "      <th>51236</th>\n",
       "      <td>RT @FollowPolitics_: POLL | Who are you planni...</td>\n",
       "      <td>2388</td>\n",
       "    </tr>\n",
       "    <tr>\n",
       "      <th>51080</th>\n",
       "      <td>RT @Femi_Sorry: Watch this.\\nRe-watch this.\\nA...</td>\n",
       "      <td>2065</td>\n",
       "    </tr>\n",
       "    <tr>\n",
       "      <th>56506</th>\n",
       "      <td>RT @OFOCBrexit: Every time Nigel Farage tells ...</td>\n",
       "      <td>1896</td>\n",
       "    </tr>\n",
       "    <tr>\n",
       "      <th>65895</th>\n",
       "      <td>RT @guyverhofstadt: Johnson &amp;amp; Farage delib...</td>\n",
       "      <td>1799</td>\n",
       "    </tr>\n",
       "    <tr>\n",
       "      <th>65884</th>\n",
       "      <td>RT @guyverhofstadt: At these European Election...</td>\n",
       "      <td>1490</td>\n",
       "    </tr>\n",
       "    <tr>\n",
       "      <th>65888</th>\n",
       "      <td>RT @guyverhofstadt: Congratulations to the @Li...</td>\n",
       "      <td>1490</td>\n",
       "    </tr>\n",
       "    <tr>\n",
       "      <th>69140</th>\n",
       "      <td>RT @remainvoter: Join #RemainVoter.  It's not ...</td>\n",
       "      <td>1417</td>\n",
       "    </tr>\n",
       "  </tbody>\n",
       "</table>\n",
       "</div>"
      ],
      "text/plain": [
       "                                                    text  counts\n",
       "51995  RT @GretaThunberg: The top 5 most important is...   11700\n",
       "51073  RT @Femi_Sorry: THREAD of things about Nigel F...    4020\n",
       "56952  RT @PartisanDE: More evidence how inhuman #Mac...    3569\n",
       "51236  RT @FollowPolitics_: POLL | Who are you planni...    2388\n",
       "51080  RT @Femi_Sorry: Watch this.\\nRe-watch this.\\nA...    2065\n",
       "56506  RT @OFOCBrexit: Every time Nigel Farage tells ...    1896\n",
       "65895  RT @guyverhofstadt: Johnson &amp; Farage delib...    1799\n",
       "65884  RT @guyverhofstadt: At these European Election...    1490\n",
       "65888  RT @guyverhofstadt: Congratulations to the @Li...    1490\n",
       "69140  RT @remainvoter: Join #RemainVoter.  It's not ...    1417"
      ]
     },
     "execution_count": 90,
     "metadata": {},
     "output_type": "execute_result"
    }
   ],
   "source": [
    "df.groupby(['text']).size().reset_index(name='counts')\\\n",
    "  .sort_values('counts', ascending=False).head(10)"
   ]
  },
  {
   "cell_type": "code",
   "execution_count": null,
   "metadata": {},
   "outputs": [],
   "source": []
  },
  {
   "cell_type": "code",
   "execution_count": 91,
   "metadata": {},
   "outputs": [
    {
     "data": {
      "text/html": [
       "<div>\n",
       "<style scoped>\n",
       "    .dataframe tbody tr th:only-of-type {\n",
       "        vertical-align: middle;\n",
       "    }\n",
       "\n",
       "    .dataframe tbody tr th {\n",
       "        vertical-align: top;\n",
       "    }\n",
       "\n",
       "    .dataframe thead th {\n",
       "        text-align: right;\n",
       "    }\n",
       "</style>\n",
       "<table border=\"1\" class=\"dataframe\">\n",
       "  <thead>\n",
       "    <tr style=\"text-align: right;\">\n",
       "      <th></th>\n",
       "      <th>id</th>\n",
       "      <th>country</th>\n",
       "      <th>time_stamp</th>\n",
       "      <th>lang</th>\n",
       "      <th>text</th>\n",
       "      <th>length</th>\n",
       "      <th>TimeStamp</th>\n",
       "      <th>Date</th>\n",
       "      <th>is_retweet</th>\n",
       "      <th>retweeted</th>\n",
       "      <th>mentioned</th>\n",
       "      <th>hashtags</th>\n",
       "      <th>top</th>\n",
       "    </tr>\n",
       "  </thead>\n",
       "  <tbody>\n",
       "    <tr>\n",
       "      <th>0</th>\n",
       "      <td>1126171395703152640</td>\n",
       "      <td>NaN</td>\n",
       "      <td>Wed May 08 17:05:58 +0000 2019</td>\n",
       "      <td>en</td>\n",
       "      <td>Facebook now allows EU-wide political campaign...</td>\n",
       "      <td>215</td>\n",
       "      <td>2019-05-08 17:05:58+00:00</td>\n",
       "      <td>2019-05-08</td>\n",
       "      <td>False</td>\n",
       "      <td>[]</td>\n",
       "      <td>[]</td>\n",
       "      <td>[#EUelections2019]</td>\n",
       "      <td>0</td>\n",
       "    </tr>\n",
       "    <tr>\n",
       "      <th>1</th>\n",
       "      <td>1126171374169538561</td>\n",
       "      <td>NaN</td>\n",
       "      <td>Wed May 08 17:05:53 +0000 2019</td>\n",
       "      <td>nl</td>\n",
       "      <td>.@HansBrusselmans is een ding nu. Heeft Twitte...</td>\n",
       "      <td>167</td>\n",
       "      <td>2019-05-08 17:05:53+00:00</td>\n",
       "      <td>2019-05-08</td>\n",
       "      <td>False</td>\n",
       "      <td>[]</td>\n",
       "      <td>[@HansBrusselmans, @SPnl]</td>\n",
       "      <td>[#EUelections2019]</td>\n",
       "      <td>0</td>\n",
       "    </tr>\n",
       "    <tr>\n",
       "      <th>2</th>\n",
       "      <td>1126171328195829761</td>\n",
       "      <td>NaN</td>\n",
       "      <td>Wed May 08 17:05:42 +0000 2019</td>\n",
       "      <td>de</td>\n",
       "      <td>RT @VolkerRahn: Protestantische Partnerkirchen...</td>\n",
       "      <td>142</td>\n",
       "      <td>2019-05-08 17:05:42+00:00</td>\n",
       "      <td>2019-05-08</td>\n",
       "      <td>True</td>\n",
       "      <td>[@VolkerRahn]</td>\n",
       "      <td>[@ekhn_de]</td>\n",
       "      <td>[#Europa, #Europawahl2019]</td>\n",
       "      <td>0</td>\n",
       "    </tr>\n",
       "    <tr>\n",
       "      <th>3</th>\n",
       "      <td>1126171318204940293</td>\n",
       "      <td>NaN</td>\n",
       "      <td>Wed May 08 17:05:40 +0000 2019</td>\n",
       "      <td>en</td>\n",
       "      <td>RT @TommySheppard: Truth is it doesn't matter ...</td>\n",
       "      <td>141</td>\n",
       "      <td>2019-05-08 17:05:40+00:00</td>\n",
       "      <td>2019-05-08</td>\n",
       "      <td>True</td>\n",
       "      <td>[@TommySheppard]</td>\n",
       "      <td>[]</td>\n",
       "      <td>[]</td>\n",
       "      <td>0</td>\n",
       "    </tr>\n",
       "    <tr>\n",
       "      <th>4</th>\n",
       "      <td>1126171305047416833</td>\n",
       "      <td>NaN</td>\n",
       "      <td>Wed May 08 17:05:37 +0000 2019</td>\n",
       "      <td>fr</td>\n",
       "      <td>@bbclaurak Vote @brexitparty_uk! 🥳 #ForDemocr...</td>\n",
       "      <td>94</td>\n",
       "      <td>2019-05-08 17:05:37+00:00</td>\n",
       "      <td>2019-05-08</td>\n",
       "      <td>False</td>\n",
       "      <td>[]</td>\n",
       "      <td>[@bbclaurak, @brexitparty_uk]</td>\n",
       "      <td>[#ForDemocracy, #EUelections2019]</td>\n",
       "      <td>0</td>\n",
       "    </tr>\n",
       "  </tbody>\n",
       "</table>\n",
       "</div>"
      ],
      "text/plain": [
       "                    id country                      time_stamp lang  \\\n",
       "0  1126171395703152640     NaN  Wed May 08 17:05:58 +0000 2019   en   \n",
       "1  1126171374169538561     NaN  Wed May 08 17:05:53 +0000 2019   nl   \n",
       "2  1126171328195829761     NaN  Wed May 08 17:05:42 +0000 2019   de   \n",
       "3  1126171318204940293     NaN  Wed May 08 17:05:40 +0000 2019   en   \n",
       "4  1126171305047416833     NaN  Wed May 08 17:05:37 +0000 2019   fr   \n",
       "\n",
       "                                                text  length  \\\n",
       "0  Facebook now allows EU-wide political campaign...     215   \n",
       "1  .@HansBrusselmans is een ding nu. Heeft Twitte...     167   \n",
       "2  RT @VolkerRahn: Protestantische Partnerkirchen...     142   \n",
       "3  RT @TommySheppard: Truth is it doesn't matter ...     141   \n",
       "4  @bbclaurak Vote @brexitparty_uk! 🥳 #ForDemocr...      94   \n",
       "\n",
       "                  TimeStamp        Date  is_retweet         retweeted  \\\n",
       "0 2019-05-08 17:05:58+00:00  2019-05-08       False                []   \n",
       "1 2019-05-08 17:05:53+00:00  2019-05-08       False                []   \n",
       "2 2019-05-08 17:05:42+00:00  2019-05-08        True     [@VolkerRahn]   \n",
       "3 2019-05-08 17:05:40+00:00  2019-05-08        True  [@TommySheppard]   \n",
       "4 2019-05-08 17:05:37+00:00  2019-05-08       False                []   \n",
       "\n",
       "                       mentioned                           hashtags  top  \n",
       "0                             []                 [#EUelections2019]    0  \n",
       "1      [@HansBrusselmans, @SPnl]                 [#EUelections2019]    0  \n",
       "2                     [@ekhn_de]         [#Europa, #Europawahl2019]    0  \n",
       "3                             []                                 []    0  \n",
       "4  [@bbclaurak, @brexitparty_uk]  [#ForDemocracy, #EUelections2019]    0  "
      ]
     },
     "execution_count": 91,
     "metadata": {},
     "output_type": "execute_result"
    }
   ],
   "source": [
    "df['length'] = df['text'].apply(len)\n",
    "df.head()"
   ]
  },
  {
   "cell_type": "code",
   "execution_count": 92,
   "metadata": {},
   "outputs": [
    {
     "data": {
      "text/plain": [
       "<matplotlib.axes._subplots.AxesSubplot at 0x46d486a0>"
      ]
     },
     "execution_count": 92,
     "metadata": {},
     "output_type": "execute_result"
    },
    {
     "data": {
      "image/png": "[encoded data removed]",
      "text/plain": [
       "<Figure size 1080x432 with 1 Axes>"
      ]
     },
     "metadata": {
      "needs_background": "light"
     },
     "output_type": "display_data"
    }
   ],
   "source": [
    "plt.figure(figsize=(15,6))\n",
    "sns.distplot(df['length'], bins=20)"
   ]
  },
  {
   "cell_type": "code",
   "execution_count": 93,
   "metadata": {},
   "outputs": [
    {
     "data": {
      "text/html": [
       "<div>\n",
       "<style scoped>\n",
       "    .dataframe tbody tr th:only-of-type {\n",
       "        vertical-align: middle;\n",
       "    }\n",
       "\n",
       "    .dataframe tbody tr th {\n",
       "        vertical-align: top;\n",
       "    }\n",
       "\n",
       "    .dataframe thead th {\n",
       "        text-align: right;\n",
       "    }\n",
       "</style>\n",
       "<table border=\"1\" class=\"dataframe\">\n",
       "  <thead>\n",
       "    <tr style=\"text-align: right;\">\n",
       "      <th></th>\n",
       "      <th>id</th>\n",
       "      <th>country</th>\n",
       "      <th>lang</th>\n",
       "      <th>text</th>\n",
       "      <th>length</th>\n",
       "      <th>TimeStamp</th>\n",
       "      <th>Date</th>\n",
       "      <th>is_retweet</th>\n",
       "      <th>retweeted</th>\n",
       "      <th>mentioned</th>\n",
       "      <th>hashtags</th>\n",
       "      <th>top</th>\n",
       "    </tr>\n",
       "  </thead>\n",
       "  <tbody>\n",
       "    <tr>\n",
       "      <th>0</th>\n",
       "      <td>1126171395703152640</td>\n",
       "      <td>NaN</td>\n",
       "      <td>en</td>\n",
       "      <td>Facebook now allows EU-wide political campaign...</td>\n",
       "      <td>215</td>\n",
       "      <td>2019-05-08 17:05:58+00:00</td>\n",
       "      <td>2019-05-08</td>\n",
       "      <td>False</td>\n",
       "      <td>[]</td>\n",
       "      <td>[]</td>\n",
       "      <td>[#EUelections2019]</td>\n",
       "      <td>0</td>\n",
       "    </tr>\n",
       "    <tr>\n",
       "      <th>1</th>\n",
       "      <td>1126171374169538561</td>\n",
       "      <td>NaN</td>\n",
       "      <td>nl</td>\n",
       "      <td>.@HansBrusselmans is een ding nu. Heeft Twitte...</td>\n",
       "      <td>167</td>\n",
       "      <td>2019-05-08 17:05:53+00:00</td>\n",
       "      <td>2019-05-08</td>\n",
       "      <td>False</td>\n",
       "      <td>[]</td>\n",
       "      <td>[@HansBrusselmans, @SPnl]</td>\n",
       "      <td>[#EUelections2019]</td>\n",
       "      <td>0</td>\n",
       "    </tr>\n",
       "    <tr>\n",
       "      <th>2</th>\n",
       "      <td>1126171328195829761</td>\n",
       "      <td>NaN</td>\n",
       "      <td>de</td>\n",
       "      <td>RT @VolkerRahn: Protestantische Partnerkirchen...</td>\n",
       "      <td>142</td>\n",
       "      <td>2019-05-08 17:05:42+00:00</td>\n",
       "      <td>2019-05-08</td>\n",
       "      <td>True</td>\n",
       "      <td>[@VolkerRahn]</td>\n",
       "      <td>[@ekhn_de]</td>\n",
       "      <td>[#Europa, #Europawahl2019]</td>\n",
       "      <td>0</td>\n",
       "    </tr>\n",
       "    <tr>\n",
       "      <th>3</th>\n",
       "      <td>1126171318204940293</td>\n",
       "      <td>NaN</td>\n",
       "      <td>en</td>\n",
       "      <td>RT @TommySheppard: Truth is it doesn't matter ...</td>\n",
       "      <td>141</td>\n",
       "      <td>2019-05-08 17:05:40+00:00</td>\n",
       "      <td>2019-05-08</td>\n",
       "      <td>True</td>\n",
       "      <td>[@TommySheppard]</td>\n",
       "      <td>[]</td>\n",
       "      <td>[]</td>\n",
       "      <td>0</td>\n",
       "    </tr>\n",
       "    <tr>\n",
       "      <th>4</th>\n",
       "      <td>1126171305047416833</td>\n",
       "      <td>NaN</td>\n",
       "      <td>fr</td>\n",
       "      <td>@bbclaurak Vote @brexitparty_uk! 🥳 #ForDemocr...</td>\n",
       "      <td>94</td>\n",
       "      <td>2019-05-08 17:05:37+00:00</td>\n",
       "      <td>2019-05-08</td>\n",
       "      <td>False</td>\n",
       "      <td>[]</td>\n",
       "      <td>[@bbclaurak, @brexitparty_uk]</td>\n",
       "      <td>[#ForDemocracy, #EUelections2019]</td>\n",
       "      <td>0</td>\n",
       "    </tr>\n",
       "  </tbody>\n",
       "</table>\n",
       "</div>"
      ],
      "text/plain": [
       "                    id country lang  \\\n",
       "0  1126171395703152640     NaN   en   \n",
       "1  1126171374169538561     NaN   nl   \n",
       "2  1126171328195829761     NaN   de   \n",
       "3  1126171318204940293     NaN   en   \n",
       "4  1126171305047416833     NaN   fr   \n",
       "\n",
       "                                                text  length  \\\n",
       "0  Facebook now allows EU-wide political campaign...     215   \n",
       "1  .@HansBrusselmans is een ding nu. Heeft Twitte...     167   \n",
       "2  RT @VolkerRahn: Protestantische Partnerkirchen...     142   \n",
       "3  RT @TommySheppard: Truth is it doesn't matter ...     141   \n",
       "4  @bbclaurak Vote @brexitparty_uk! 🥳 #ForDemocr...      94   \n",
       "\n",
       "                  TimeStamp        Date  is_retweet         retweeted  \\\n",
       "0 2019-05-08 17:05:58+00:00  2019-05-08       False                []   \n",
       "1 2019-05-08 17:05:53+00:00  2019-05-08       False                []   \n",
       "2 2019-05-08 17:05:42+00:00  2019-05-08        True     [@VolkerRahn]   \n",
       "3 2019-05-08 17:05:40+00:00  2019-05-08        True  [@TommySheppard]   \n",
       "4 2019-05-08 17:05:37+00:00  2019-05-08       False                []   \n",
       "\n",
       "                       mentioned                           hashtags  top  \n",
       "0                             []                 [#EUelections2019]    0  \n",
       "1      [@HansBrusselmans, @SPnl]                 [#EUelections2019]    0  \n",
       "2                     [@ekhn_de]         [#Europa, #Europawahl2019]    0  \n",
       "3                             []                                 []    0  \n",
       "4  [@bbclaurak, @brexitparty_uk]  [#ForDemocracy, #EUelections2019]    0  "
      ]
     },
     "execution_count": 93,
     "metadata": {},
     "output_type": "execute_result"
    }
   ],
   "source": [
    "df[\"TimeStamp\"] = pd.to_datetime(df[\"time_stamp\"], errors='coerce')\n",
    "df.drop(\"time_stamp\", axis=1).head()"
   ]
  },
  {
   "cell_type": "code",
   "execution_count": 94,
   "metadata": {},
   "outputs": [
    {
     "data": {
      "text/html": [
       "<div>\n",
       "<style scoped>\n",
       "    .dataframe tbody tr th:only-of-type {\n",
       "        vertical-align: middle;\n",
       "    }\n",
       "\n",
       "    .dataframe tbody tr th {\n",
       "        vertical-align: top;\n",
       "    }\n",
       "\n",
       "    .dataframe thead th {\n",
       "        text-align: right;\n",
       "    }\n",
       "</style>\n",
       "<table border=\"1\" class=\"dataframe\">\n",
       "  <thead>\n",
       "    <tr style=\"text-align: right;\">\n",
       "      <th></th>\n",
       "      <th>id</th>\n",
       "      <th>country</th>\n",
       "      <th>time_stamp</th>\n",
       "      <th>lang</th>\n",
       "      <th>text</th>\n",
       "      <th>length</th>\n",
       "      <th>TimeStamp</th>\n",
       "      <th>Date</th>\n",
       "      <th>is_retweet</th>\n",
       "      <th>retweeted</th>\n",
       "      <th>mentioned</th>\n",
       "      <th>hashtags</th>\n",
       "      <th>top</th>\n",
       "    </tr>\n",
       "  </thead>\n",
       "  <tbody>\n",
       "    <tr>\n",
       "      <th>0</th>\n",
       "      <td>1126171395703152640</td>\n",
       "      <td>NaN</td>\n",
       "      <td>Wed May 08 17:05:58 +0000 2019</td>\n",
       "      <td>en</td>\n",
       "      <td>Facebook now allows EU-wide political campaign...</td>\n",
       "      <td>215</td>\n",
       "      <td>2019-05-08 17:05:58+00:00</td>\n",
       "      <td>2019-05-08</td>\n",
       "      <td>False</td>\n",
       "      <td>[]</td>\n",
       "      <td>[]</td>\n",
       "      <td>[#EUelections2019]</td>\n",
       "      <td>0</td>\n",
       "    </tr>\n",
       "    <tr>\n",
       "      <th>1</th>\n",
       "      <td>1126171374169538561</td>\n",
       "      <td>NaN</td>\n",
       "      <td>Wed May 08 17:05:53 +0000 2019</td>\n",
       "      <td>nl</td>\n",
       "      <td>.@HansBrusselmans is een ding nu. Heeft Twitte...</td>\n",
       "      <td>167</td>\n",
       "      <td>2019-05-08 17:05:53+00:00</td>\n",
       "      <td>2019-05-08</td>\n",
       "      <td>False</td>\n",
       "      <td>[]</td>\n",
       "      <td>[@HansBrusselmans, @SPnl]</td>\n",
       "      <td>[#EUelections2019]</td>\n",
       "      <td>0</td>\n",
       "    </tr>\n",
       "    <tr>\n",
       "      <th>2</th>\n",
       "      <td>1126171328195829761</td>\n",
       "      <td>NaN</td>\n",
       "      <td>Wed May 08 17:05:42 +0000 2019</td>\n",
       "      <td>de</td>\n",
       "      <td>RT @VolkerRahn: Protestantische Partnerkirchen...</td>\n",
       "      <td>142</td>\n",
       "      <td>2019-05-08 17:05:42+00:00</td>\n",
       "      <td>2019-05-08</td>\n",
       "      <td>True</td>\n",
       "      <td>[@VolkerRahn]</td>\n",
       "      <td>[@ekhn_de]</td>\n",
       "      <td>[#Europa, #Europawahl2019]</td>\n",
       "      <td>0</td>\n",
       "    </tr>\n",
       "    <tr>\n",
       "      <th>3</th>\n",
       "      <td>1126171318204940293</td>\n",
       "      <td>NaN</td>\n",
       "      <td>Wed May 08 17:05:40 +0000 2019</td>\n",
       "      <td>en</td>\n",
       "      <td>RT @TommySheppard: Truth is it doesn't matter ...</td>\n",
       "      <td>141</td>\n",
       "      <td>2019-05-08 17:05:40+00:00</td>\n",
       "      <td>2019-05-08</td>\n",
       "      <td>True</td>\n",
       "      <td>[@TommySheppard]</td>\n",
       "      <td>[]</td>\n",
       "      <td>[]</td>\n",
       "      <td>0</td>\n",
       "    </tr>\n",
       "    <tr>\n",
       "      <th>4</th>\n",
       "      <td>1126171305047416833</td>\n",
       "      <td>NaN</td>\n",
       "      <td>Wed May 08 17:05:37 +0000 2019</td>\n",
       "      <td>fr</td>\n",
       "      <td>@bbclaurak Vote @brexitparty_uk! 🥳 #ForDemocr...</td>\n",
       "      <td>94</td>\n",
       "      <td>2019-05-08 17:05:37+00:00</td>\n",
       "      <td>2019-05-08</td>\n",
       "      <td>False</td>\n",
       "      <td>[]</td>\n",
       "      <td>[@bbclaurak, @brexitparty_uk]</td>\n",
       "      <td>[#ForDemocracy, #EUelections2019]</td>\n",
       "      <td>0</td>\n",
       "    </tr>\n",
       "  </tbody>\n",
       "</table>\n",
       "</div>"
      ],
      "text/plain": [
       "                    id country                      time_stamp lang  \\\n",
       "0  1126171395703152640     NaN  Wed May 08 17:05:58 +0000 2019   en   \n",
       "1  1126171374169538561     NaN  Wed May 08 17:05:53 +0000 2019   nl   \n",
       "2  1126171328195829761     NaN  Wed May 08 17:05:42 +0000 2019   de   \n",
       "3  1126171318204940293     NaN  Wed May 08 17:05:40 +0000 2019   en   \n",
       "4  1126171305047416833     NaN  Wed May 08 17:05:37 +0000 2019   fr   \n",
       "\n",
       "                                                text  length  \\\n",
       "0  Facebook now allows EU-wide political campaign...     215   \n",
       "1  .@HansBrusselmans is een ding nu. Heeft Twitte...     167   \n",
       "2  RT @VolkerRahn: Protestantische Partnerkirchen...     142   \n",
       "3  RT @TommySheppard: Truth is it doesn't matter ...     141   \n",
       "4  @bbclaurak Vote @brexitparty_uk! 🥳 #ForDemocr...      94   \n",
       "\n",
       "                  TimeStamp        Date  is_retweet         retweeted  \\\n",
       "0 2019-05-08 17:05:58+00:00  2019-05-08       False                []   \n",
       "1 2019-05-08 17:05:53+00:00  2019-05-08       False                []   \n",
       "2 2019-05-08 17:05:42+00:00  2019-05-08        True     [@VolkerRahn]   \n",
       "3 2019-05-08 17:05:40+00:00  2019-05-08        True  [@TommySheppard]   \n",
       "4 2019-05-08 17:05:37+00:00  2019-05-08       False                []   \n",
       "\n",
       "                       mentioned                           hashtags  top  \n",
       "0                             []                 [#EUelections2019]    0  \n",
       "1      [@HansBrusselmans, @SPnl]                 [#EUelections2019]    0  \n",
       "2                     [@ekhn_de]         [#Europa, #Europawahl2019]    0  \n",
       "3                             []                                 []    0  \n",
       "4  [@bbclaurak, @brexitparty_uk]  [#ForDemocracy, #EUelections2019]    0  "
      ]
     },
     "execution_count": 94,
     "metadata": {},
     "output_type": "execute_result"
    }
   ],
   "source": [
    "df['Date'] = df['TimeStamp'].apply(lambda t: t.date())\n",
    "df.head()"
   ]
  },
  {
   "cell_type": "code",
   "execution_count": 96,
   "metadata": {},
   "outputs": [
    {
     "data": {
      "image/png": "[encoded data removed]",
      "text/plain": [
       "<Figure size 720x360 with 1 Axes>"
      ]
     },
     "metadata": {
      "needs_background": "light"
     },
     "output_type": "display_data"
    }
   ],
   "source": [
    "plt.figure(figsize=(10,5))\n",
    "df.groupby('Date').count()[\"text\"].plot()\n",
    "plt.tight_layout()"
   ]
  },
  {
   "cell_type": "code",
   "execution_count": 97,
   "metadata": {},
   "outputs": [],
   "source": [
    "dates = df.groupby('Date').count()[\"text\"]\n",
    "dates.to_csv(\"dates.csv\", sep=';', header=False, encoding = 'utf-8')"
   ]
  },
  {
   "cell_type": "code",
   "execution_count": 35,
   "metadata": {},
   "outputs": [
    {
     "data": {
      "text/plain": [
       "303124"
      ]
     },
     "execution_count": 35,
     "metadata": {},
     "output_type": "execute_result"
    }
   ],
   "source": [
    "df['is_retweet'] = df['text'].apply(lambda x: x[:2]=='RT')\n",
    "df['is_retweet'].sum()  # number of retweets"
   ]
  },
  {
   "cell_type": "code",
   "execution_count": 36,
   "metadata": {},
   "outputs": [
    {
     "data": {
      "text/plain": [
       "27372"
      ]
     },
     "execution_count": 36,
     "metadata": {},
     "output_type": "execute_result"
    }
   ],
   "source": [
    "df.loc[df['is_retweet']].text.unique().size"
   ]
  },
  {
   "cell_type": "code",
   "execution_count": 47,
   "metadata": {},
   "outputs": [
    {
     "data": {
      "text/html": [
       "<div>\n",
       "<style scoped>\n",
       "    .dataframe tbody tr th:only-of-type {\n",
       "        vertical-align: middle;\n",
       "    }\n",
       "\n",
       "    .dataframe tbody tr th {\n",
       "        vertical-align: top;\n",
       "    }\n",
       "\n",
       "    .dataframe thead th {\n",
       "        text-align: right;\n",
       "    }\n",
       "</style>\n",
       "<table border=\"1\" class=\"dataframe\">\n",
       "  <thead>\n",
       "    <tr style=\"text-align: right;\">\n",
       "      <th></th>\n",
       "      <th>text</th>\n",
       "      <th>counts</th>\n",
       "    </tr>\n",
       "  </thead>\n",
       "  <tbody>\n",
       "    <tr>\n",
       "      <th>51995</th>\n",
       "      <td>RT @GretaThunberg: The top 5 most important is...</td>\n",
       "      <td>11700</td>\n",
       "    </tr>\n",
       "    <tr>\n",
       "      <th>51073</th>\n",
       "      <td>RT @Femi_Sorry: THREAD of things about Nigel F...</td>\n",
       "      <td>4020</td>\n",
       "    </tr>\n",
       "    <tr>\n",
       "      <th>56952</th>\n",
       "      <td>RT @PartisanDE: More evidence how inhuman #Mac...</td>\n",
       "      <td>3569</td>\n",
       "    </tr>\n",
       "    <tr>\n",
       "      <th>51236</th>\n",
       "      <td>RT @FollowPolitics_: POLL | Who are you planni...</td>\n",
       "      <td>2388</td>\n",
       "    </tr>\n",
       "    <tr>\n",
       "      <th>51080</th>\n",
       "      <td>RT @Femi_Sorry: Watch this.\\nRe-watch this.\\nA...</td>\n",
       "      <td>2065</td>\n",
       "    </tr>\n",
       "    <tr>\n",
       "      <th>56506</th>\n",
       "      <td>RT @OFOCBrexit: Every time Nigel Farage tells ...</td>\n",
       "      <td>1896</td>\n",
       "    </tr>\n",
       "    <tr>\n",
       "      <th>65895</th>\n",
       "      <td>RT @guyverhofstadt: Johnson &amp;amp; Farage delib...</td>\n",
       "      <td>1799</td>\n",
       "    </tr>\n",
       "    <tr>\n",
       "      <th>65884</th>\n",
       "      <td>RT @guyverhofstadt: At these European Election...</td>\n",
       "      <td>1490</td>\n",
       "    </tr>\n",
       "    <tr>\n",
       "      <th>65888</th>\n",
       "      <td>RT @guyverhofstadt: Congratulations to the @Li...</td>\n",
       "      <td>1490</td>\n",
       "    </tr>\n",
       "    <tr>\n",
       "      <th>69140</th>\n",
       "      <td>RT @remainvoter: Join #RemainVoter.  It's not ...</td>\n",
       "      <td>1417</td>\n",
       "    </tr>\n",
       "  </tbody>\n",
       "</table>\n",
       "</div>"
      ],
      "text/plain": [
       "                                                    text  counts\n",
       "51995  RT @GretaThunberg: The top 5 most important is...   11700\n",
       "51073  RT @Femi_Sorry: THREAD of things about Nigel F...    4020\n",
       "56952  RT @PartisanDE: More evidence how inhuman #Mac...    3569\n",
       "51236  RT @FollowPolitics_: POLL | Who are you planni...    2388\n",
       "51080  RT @Femi_Sorry: Watch this.\\nRe-watch this.\\nA...    2065\n",
       "56506  RT @OFOCBrexit: Every time Nigel Farage tells ...    1896\n",
       "65895  RT @guyverhofstadt: Johnson &amp; Farage delib...    1799\n",
       "65884  RT @guyverhofstadt: At these European Election...    1490\n",
       "65888  RT @guyverhofstadt: Congratulations to the @Li...    1490\n",
       "69140  RT @remainvoter: Join #RemainVoter.  It's not ...    1417"
      ]
     },
     "execution_count": 47,
     "metadata": {},
     "output_type": "execute_result"
    }
   ],
   "source": [
    "# 10 most repeated tweets\n",
    "df.groupby(['text']).size().reset_index(name='counts')\\\n",
    "  .sort_values('counts', ascending=False).head(10)"
   ]
  },
  {
   "cell_type": "code",
   "execution_count": 98,
   "metadata": {},
   "outputs": [],
   "source": [
    "def find_retweeted(tweet):\n",
    "    '''This function will extract the twitter handles of retweed people'''\n",
    "    return re.findall('(?<=RT\\s)(@[A-Za-z]+[A-Za-z0-9-_]+)', tweet)\n",
    "\n",
    "def find_mentioned(tweet):\n",
    "    '''This function will extract the twitter handles of people mentioned in the tweet'''\n",
    "    return re.findall('(?<!RT\\s)(@[A-Za-z]+[A-Za-z0-9-_]+)', tweet)  \n",
    "\n",
    "def find_hashtags(tweet):\n",
    "    '''This function will extract hashtags'''\n",
    "    return re.findall('(#[A-Za-z]+[A-Za-z0-9-_]+)', tweet)  "
   ]
  },
  {
   "cell_type": "code",
   "execution_count": 99,
   "metadata": {},
   "outputs": [],
   "source": [
    "# make new columns for retweeted usernames, mentioned usernames and hashtags\n",
    "df['retweeted'] = df.text.apply(find_retweeted)\n",
    "df['mentioned'] = df.text.apply(find_mentioned)\n",
    "df['hashtags'] = df.text.apply(find_hashtags)"
   ]
  },
  {
   "cell_type": "code",
   "execution_count": 100,
   "metadata": {},
   "outputs": [],
   "source": [
    "# take the rows from the hashtag columns where there are actually hashtags\n",
    "hashtags_list_df = df.loc[\n",
    "                       df.hashtags.apply(\n",
    "                           lambda hashtags_list: hashtags_list !=[]\n",
    "                       ),['hashtags']]"
   ]
  },
  {
   "cell_type": "code",
   "execution_count": 101,
   "metadata": {},
   "outputs": [],
   "source": [
    "# create dataframe where each use of hashtag gets its own row\n",
    "flattened_hashtags_df = pd.DataFrame([hashtag for hashtags_list in hashtags_list_df.hashtags for hashtag in hashtags_list], columns=['hashtag'])"
   ]
  },
  {
   "cell_type": "code",
   "execution_count": 102,
   "metadata": {},
   "outputs": [
    {
     "data": {
      "text/plain": [
       "20505"
      ]
     },
     "execution_count": 102,
     "metadata": {},
     "output_type": "execute_result"
    }
   ],
   "source": [
    "# number of unique hashtags\n",
    "flattened_hashtags_df['hashtag'].unique().size"
   ]
  },
  {
   "cell_type": "code",
   "execution_count": 103,
   "metadata": {},
   "outputs": [],
   "source": [
    "#count of appearances of each hashtag\n",
    "popular_hashtags = flattened_hashtags_df.groupby('hashtag').size()\\\n",
    "                                        .reset_index(name='counts')\\\n",
    "                                        .sort_values('counts', ascending=False)\\\n",
    "                                        .reset_index(drop=True)"
   ]
  },
  {
   "cell_type": "code",
   "execution_count": 105,
   "metadata": {},
   "outputs": [
    {
     "data": {
      "text/html": [
       "<div>\n",
       "<style scoped>\n",
       "    .dataframe tbody tr th:only-of-type {\n",
       "        vertical-align: middle;\n",
       "    }\n",
       "\n",
       "    .dataframe tbody tr th {\n",
       "        vertical-align: top;\n",
       "    }\n",
       "\n",
       "    .dataframe thead th {\n",
       "        text-align: right;\n",
       "    }\n",
       "</style>\n",
       "<table border=\"1\" class=\"dataframe\">\n",
       "  <thead>\n",
       "    <tr style=\"text-align: right;\">\n",
       "      <th></th>\n",
       "      <th>hashtag</th>\n",
       "      <th>counts</th>\n",
       "    </tr>\n",
       "  </thead>\n",
       "  <tbody>\n",
       "    <tr>\n",
       "      <th>0</th>\n",
       "      <td>#EUelections2019</td>\n",
       "      <td>118452</td>\n",
       "    </tr>\n",
       "    <tr>\n",
       "      <th>1</th>\n",
       "      <td>#EUElections2019</td>\n",
       "      <td>34660</td>\n",
       "    </tr>\n",
       "    <tr>\n",
       "      <th>2</th>\n",
       "      <td>#EuropeanElections2019</td>\n",
       "      <td>30371</td>\n",
       "    </tr>\n",
       "    <tr>\n",
       "      <th>3</th>\n",
       "      <td>#Brexit</td>\n",
       "      <td>11742</td>\n",
       "    </tr>\n",
       "    <tr>\n",
       "      <th>4</th>\n",
       "      <td>#EU</td>\n",
       "      <td>10180</td>\n",
       "    </tr>\n",
       "    <tr>\n",
       "      <th>5</th>\n",
       "      <td>#StopBrexit</td>\n",
       "      <td>9073</td>\n",
       "    </tr>\n",
       "    <tr>\n",
       "      <th>6</th>\n",
       "      <td>#PeoplesVote</td>\n",
       "      <td>6360</td>\n",
       "    </tr>\n",
       "    <tr>\n",
       "      <th>7</th>\n",
       "      <td>#Macron</td>\n",
       "      <td>5537</td>\n",
       "    </tr>\n",
       "    <tr>\n",
       "      <th>8</th>\n",
       "      <td>#BrexitParty</td>\n",
       "      <td>5358</td>\n",
       "    </tr>\n",
       "    <tr>\n",
       "      <th>9</th>\n",
       "      <td>#ThisTimeImVoting</td>\n",
       "      <td>5341</td>\n",
       "    </tr>\n",
       "    <tr>\n",
       "      <th>10</th>\n",
       "      <td>#France</td>\n",
       "      <td>4619</td>\n",
       "    </tr>\n",
       "    <tr>\n",
       "      <th>11</th>\n",
       "      <td>#Remain</td>\n",
       "      <td>4541</td>\n",
       "    </tr>\n",
       "    <tr>\n",
       "      <th>12</th>\n",
       "      <td>#LibDems</td>\n",
       "      <td>4535</td>\n",
       "    </tr>\n",
       "    <tr>\n",
       "      <th>13</th>\n",
       "      <td>#regime</td>\n",
       "      <td>4426</td>\n",
       "    </tr>\n",
       "    <tr>\n",
       "      <th>14</th>\n",
       "      <td>#RemainVoter</td>\n",
       "      <td>4388</td>\n",
       "    </tr>\n",
       "    <tr>\n",
       "      <th>15</th>\n",
       "      <td>#EP2019</td>\n",
       "      <td>4337</td>\n",
       "    </tr>\n",
       "    <tr>\n",
       "      <th>16</th>\n",
       "      <td>#Europe</td>\n",
       "      <td>4125</td>\n",
       "    </tr>\n",
       "    <tr>\n",
       "      <th>17</th>\n",
       "      <td>#Labour</td>\n",
       "      <td>3850</td>\n",
       "    </tr>\n",
       "    <tr>\n",
       "      <th>18</th>\n",
       "      <td>#Marr</td>\n",
       "      <td>3686</td>\n",
       "    </tr>\n",
       "    <tr>\n",
       "      <th>19</th>\n",
       "      <td>#EUelec</td>\n",
       "      <td>2866</td>\n",
       "    </tr>\n",
       "    <tr>\n",
       "      <th>20</th>\n",
       "      <td>#ChangeUK</td>\n",
       "      <td>2670</td>\n",
       "    </tr>\n",
       "  </tbody>\n",
       "</table>\n",
       "</div>"
      ],
      "text/plain": [
       "                   hashtag  counts\n",
       "0         #EUelections2019  118452\n",
       "1         #EUElections2019   34660\n",
       "2   #EuropeanElections2019   30371\n",
       "3                  #Brexit   11742\n",
       "4                      #EU   10180\n",
       "5              #StopBrexit    9073\n",
       "6             #PeoplesVote    6360\n",
       "7                  #Macron    5537\n",
       "8             #BrexitParty    5358\n",
       "9        #ThisTimeImVoting    5341\n",
       "10                 #France    4619\n",
       "11                 #Remain    4541\n",
       "12                #LibDems    4535\n",
       "13                 #regime    4426\n",
       "14            #RemainVoter    4388\n",
       "15                 #EP2019    4337\n",
       "16                 #Europe    4125\n",
       "17                 #Labour    3850\n",
       "18                   #Marr    3686\n",
       "19                 #EUelec    2866\n",
       "20               #ChangeUK    2670"
      ]
     },
     "execution_count": 105,
     "metadata": {},
     "output_type": "execute_result"
    }
   ],
   "source": [
    "popular_hashtags[:21]"
   ]
  },
  {
   "cell_type": "code",
   "execution_count": 107,
   "metadata": {},
   "outputs": [],
   "source": [
    "popular_hashtags.to_csv(\"top10hashtags.csv\", sep=';', header=False, encoding = 'utf-8')"
   ]
  },
  {
   "cell_type": "code",
   "execution_count": 108,
   "metadata": {},
   "outputs": [],
   "source": [
    "# take hashtags which appear at least this amount of times\n",
    "min_appearance = 2670\n",
    "# find popular hashtags - make into python set for efficiency\n",
    "popular_hashtags_set = set(popular_hashtags[\n",
    "                           popular_hashtags.counts>=min_appearance\n",
    "                           ]['hashtag'])"
   ]
  },
  {
   "cell_type": "code",
   "execution_count": 109,
   "metadata": {},
   "outputs": [],
   "source": [
    "# make a new column with only the popular hashtags\n",
    "hashtags_list_df['popular_hashtags'] = hashtags_list_df.hashtags.apply(\n",
    "            lambda hashtag_list: [hashtag for hashtag in hashtag_list\n",
    "                                  if hashtag in popular_hashtags_set])\n",
    "# drop rows without popular hashtag\n",
    "popular_hashtags_list_df = hashtags_list_df.loc[\n",
    "            hashtags_list_df.popular_hashtags.apply(lambda hashtag_list: hashtag_list !=[])]"
   ]
  },
  {
   "cell_type": "code",
   "execution_count": 110,
   "metadata": {},
   "outputs": [],
   "source": [
    "# make new dataframe\n",
    "hashtag_vector_df = popular_hashtags_list_df.loc[:, ['popular_hashtags']]\n",
    "\n",
    "for hashtag in popular_hashtags_set:\n",
    "    # make columns to encode presence of hashtags\n",
    "    hashtag_vector_df['{}'.format(hashtag)] = hashtag_vector_df.popular_hashtags.apply(\n",
    "        lambda hashtag_list: int(hashtag in hashtag_list))"
   ]
  },
  {
   "cell_type": "code",
   "execution_count": 111,
   "metadata": {},
   "outputs": [],
   "source": [
    "hashtag_matrix = hashtag_vector_df.drop('popular_hashtags', axis=1)"
   ]
  },
  {
   "cell_type": "code",
   "execution_count": 112,
   "metadata": {},
   "outputs": [
    {
     "data": {
      "text/plain": [
       "<matplotlib.axes._subplots.AxesSubplot at 0x2725a2e8>"
      ]
     },
     "execution_count": 112,
     "metadata": {},
     "output_type": "execute_result"
    },
    {
     "data": {
      "image/png": "[encoded data removed]",
      "text/plain": [
       "<Figure size 720x720 with 2 Axes>"
      ]
     },
     "metadata": {
      "needs_background": "light"
     },
     "output_type": "display_data"
    }
   ],
   "source": [
    "# calculate the correlation matrix\n",
    "correlations = hashtag_matrix.corr()\n",
    "\n",
    "# plot the correlation matrix\n",
    "plt.figure(figsize=(10,10))\n",
    "sns.heatmap(correlations,\n",
    "    cmap='RdBu',\n",
    "    vmin=-1,\n",
    "    vmax=1,\n",
    "    square = True,\n",
    "    cbar_kws={'label':'correlation'})"
   ]
  },
  {
   "cell_type": "code",
   "execution_count": 113,
   "metadata": {},
   "outputs": [],
   "source": [
    "# take the rows from the mentioned columns where there are actually mentions\n",
    "mentioned_list_df = df.loc[\n",
    "                       df.mentioned.apply(\n",
    "                           lambda mentioned_list: mentioned_list !=[]\n",
    "                       ),['mentioned']]"
   ]
  },
  {
   "cell_type": "code",
   "execution_count": 114,
   "metadata": {},
   "outputs": [],
   "source": [
    "# create dataframe where each use of hashtag gets its own row\n",
    "mentioned_df = pd.DataFrame([mentioned for mentioned_list in mentioned_list_df.mentioned for mentioned in mentioned_list], columns=['mentioned'])"
   ]
  },
  {
   "cell_type": "code",
   "execution_count": 115,
   "metadata": {},
   "outputs": [
    {
     "data": {
      "text/plain": [
       "18149"
      ]
     },
     "execution_count": 115,
     "metadata": {},
     "output_type": "execute_result"
    }
   ],
   "source": [
    "mentioned_df['mentioned'].unique().size"
   ]
  },
  {
   "cell_type": "code",
   "execution_count": 116,
   "metadata": {},
   "outputs": [],
   "source": [
    "#count of appearances of each hashtag mentioned\n",
    "popular_mentioned = mentioned_df.groupby('mentioned').size()\\\n",
    "                                        .reset_index(name='counts')\\\n",
    "                                        .sort_values('counts', ascending=False)\\\n",
    "                                        .reset_index(drop=True)"
   ]
  },
  {
   "cell_type": "code",
   "execution_count": 117,
   "metadata": {},
   "outputs": [
    {
     "data": {
      "text/html": [
       "<div>\n",
       "<style scoped>\n",
       "    .dataframe tbody tr th:only-of-type {\n",
       "        vertical-align: middle;\n",
       "    }\n",
       "\n",
       "    .dataframe tbody tr th {\n",
       "        vertical-align: top;\n",
       "    }\n",
       "\n",
       "    .dataframe thead th {\n",
       "        text-align: right;\n",
       "    }\n",
       "</style>\n",
       "<table border=\"1\" class=\"dataframe\">\n",
       "  <thead>\n",
       "    <tr style=\"text-align: right;\">\n",
       "      <th></th>\n",
       "      <th>mentioned</th>\n",
       "      <th>counts</th>\n",
       "    </tr>\n",
       "  </thead>\n",
       "  <tbody>\n",
       "    <tr>\n",
       "      <th>0</th>\n",
       "      <td>@LibDems</td>\n",
       "      <td>15399</td>\n",
       "    </tr>\n",
       "    <tr>\n",
       "      <th>1</th>\n",
       "      <td>@UKLabour</td>\n",
       "      <td>6199</td>\n",
       "    </tr>\n",
       "    <tr>\n",
       "      <th>2</th>\n",
       "      <td>@brexitparty_uk</td>\n",
       "      <td>4834</td>\n",
       "    </tr>\n",
       "    <tr>\n",
       "      <th>3</th>\n",
       "      <td>@TheGreenParty</td>\n",
       "      <td>4288</td>\n",
       "    </tr>\n",
       "    <tr>\n",
       "      <th>4</th>\n",
       "      <td>@Nigel_Farage</td>\n",
       "      <td>4115</td>\n",
       "    </tr>\n",
       "    <tr>\n",
       "      <th>5</th>\n",
       "      <td>@theSNP</td>\n",
       "      <td>3755</td>\n",
       "    </tr>\n",
       "    <tr>\n",
       "      <th>6</th>\n",
       "      <td>@vincecable</td>\n",
       "      <td>3223</td>\n",
       "    </tr>\n",
       "    <tr>\n",
       "      <th>7</th>\n",
       "      <td>@jeremycorbyn</td>\n",
       "      <td>2344</td>\n",
       "    </tr>\n",
       "    <tr>\n",
       "      <th>8</th>\n",
       "      <td>@KRLS</td>\n",
       "      <td>2032</td>\n",
       "    </tr>\n",
       "    <tr>\n",
       "      <th>9</th>\n",
       "      <td>@guyverhofstadt</td>\n",
       "      <td>1821</td>\n",
       "    </tr>\n",
       "    <tr>\n",
       "      <th>10</th>\n",
       "      <td>@ClaraPonsati</td>\n",
       "      <td>1695</td>\n",
       "    </tr>\n",
       "    <tr>\n",
       "      <th>11</th>\n",
       "      <td>@toni_comin</td>\n",
       "      <td>1665</td>\n",
       "    </tr>\n",
       "    <tr>\n",
       "      <th>12</th>\n",
       "      <td>@MollyMEP</td>\n",
       "      <td>1599</td>\n",
       "    </tr>\n",
       "    <tr>\n",
       "      <th>13</th>\n",
       "      <td>@NicolaSturgeon</td>\n",
       "      <td>1391</td>\n",
       "    </tr>\n",
       "    <tr>\n",
       "      <th>14</th>\n",
       "      <td>@Europarl_EN</td>\n",
       "      <td>1370</td>\n",
       "    </tr>\n",
       "    <tr>\n",
       "      <th>15</th>\n",
       "      <td>@Conservatives</td>\n",
       "      <td>1319</td>\n",
       "    </tr>\n",
       "    <tr>\n",
       "      <th>16</th>\n",
       "      <td>@ForChange_Now</td>\n",
       "      <td>1280</td>\n",
       "    </tr>\n",
       "    <tr>\n",
       "      <th>17</th>\n",
       "      <td>@ManfredWeber</td>\n",
       "      <td>1160</td>\n",
       "    </tr>\n",
       "    <tr>\n",
       "      <th>18</th>\n",
       "      <td>@ElectoralCommUK</td>\n",
       "      <td>1083</td>\n",
       "    </tr>\n",
       "    <tr>\n",
       "      <th>19</th>\n",
       "      <td>@heidiallen75</td>\n",
       "      <td>1080</td>\n",
       "    </tr>\n",
       "    <tr>\n",
       "      <th>20</th>\n",
       "      <td>@TimmermansEU</td>\n",
       "      <td>1055</td>\n",
       "    </tr>\n",
       "  </tbody>\n",
       "</table>\n",
       "</div>"
      ],
      "text/plain": [
       "           mentioned  counts\n",
       "0           @LibDems   15399\n",
       "1          @UKLabour    6199\n",
       "2    @brexitparty_uk    4834\n",
       "3     @TheGreenParty    4288\n",
       "4      @Nigel_Farage    4115\n",
       "5            @theSNP    3755\n",
       "6        @vincecable    3223\n",
       "7      @jeremycorbyn    2344\n",
       "8              @KRLS    2032\n",
       "9    @guyverhofstadt    1821\n",
       "10     @ClaraPonsati    1695\n",
       "11       @toni_comin    1665\n",
       "12         @MollyMEP    1599\n",
       "13   @NicolaSturgeon    1391\n",
       "14      @Europarl_EN    1370\n",
       "15    @Conservatives    1319\n",
       "16    @ForChange_Now    1280\n",
       "17     @ManfredWeber    1160\n",
       "18  @ElectoralCommUK    1083\n",
       "19     @heidiallen75    1080\n",
       "20     @TimmermansEU    1055"
      ]
     },
     "execution_count": 117,
     "metadata": {},
     "output_type": "execute_result"
    }
   ],
   "source": [
    "popular_mentioned[:21]"
   ]
  },
  {
   "cell_type": "code",
   "execution_count": null,
   "metadata": {},
   "outputs": [],
   "source": [
    "popular_hashtags.to_csv(\"top10hashtags.csv\", sep=';', header=False, encoding = 'utf-8')"
   ]
  },
  {
   "cell_type": "code",
   "execution_count": 60,
   "metadata": {},
   "outputs": [],
   "source": [
    "# take hashtags which appear at least this amount of times\n",
    "min_appearance = 1055\n",
    "# find popular hashtags - make into python set for efficiency\n",
    "popular_mentioned_set = set(popular_mentioned[\n",
    "                           popular_mentioned.counts>=min_appearance\n",
    "                           ]['mentioned'])"
   ]
  },
  {
   "cell_type": "code",
   "execution_count": 61,
   "metadata": {},
   "outputs": [],
   "source": [
    "# make a new column with only the popular hashtags\n",
    "mentioned_list_df['popular_mentioned'] = mentioned_list_df.mentioned.apply(\n",
    "            lambda mentioned_list: [mentioned for mentioned in mentioned_list\n",
    "                                  if mentioned in popular_mentioned_set])\n",
    "# drop rows without popular hashtag\n",
    "popular_mentioned_list_df = mentioned_list_df.loc[\n",
    "            mentioned_list_df.popular_mentioned.apply(lambda mentioned_list: mentioned_list !=[])]"
   ]
  },
  {
   "cell_type": "code",
   "execution_count": 62,
   "metadata": {},
   "outputs": [],
   "source": [
    "# make new dataframe\n",
    "mentioned_vector_df = popular_mentioned_list_df.loc[:, ['popular_mentioned']]\n",
    "\n",
    "for mentioned in popular_mentioned_set:\n",
    "    # make columns to encode presence of hashtags\n",
    "    mentioned_vector_df['{}'.format(mentioned)] = mentioned_vector_df.popular_mentioned.apply(\n",
    "        lambda mentioned_list: int(mentioned in mentioned_list))"
   ]
  },
  {
   "cell_type": "code",
   "execution_count": 63,
   "metadata": {},
   "outputs": [],
   "source": [
    "mentioned_matrix = mentioned_vector_df.drop('popular_mentioned', axis=1)"
   ]
  },
  {
   "cell_type": "code",
   "execution_count": 64,
   "metadata": {},
   "outputs": [
    {
     "data": {
      "text/plain": [
       "<matplotlib.axes._subplots.AxesSubplot at 0x2e4a92b0>"
      ]
     },
     "execution_count": 64,
     "metadata": {},
     "output_type": "execute_result"
    },
    {
     "data": {
      "image/png": "[encoded data removed]",
      "text/plain": [
       "<Figure size 720x720 with 2 Axes>"
      ]
     },
     "metadata": {
      "needs_background": "light"
     },
     "output_type": "display_data"
    }
   ],
   "source": [
    "# calculate the correlation matrix\n",
    "correlations = mentioned_matrix.corr()\n",
    "\n",
    "# plot the correlation matrix\n",
    "plt.figure(figsize=(10,10))\n",
    "sns.heatmap(correlations,\n",
    "    cmap='RdBu',\n",
    "    vmin=-1,\n",
    "    vmax=1,\n",
    "    square = True,\n",
    "    cbar_kws={'label':'correlation'})"
   ]
  },
  {
   "cell_type": "code",
   "execution_count": 65,
   "metadata": {},
   "outputs": [],
   "source": [
    "def process(text, tokenizer=TweetTokenizer()): \n",
    "  \"\"\"Process the text of a tweet: \n",
    "  - Lowercase \n",
    "  - Tokenize \n",
    "  - Stopword removal \n",
    "  - Digits removal \n",
    " \n",
    "  Return: list of strings \n",
    "  \"\"\"\n",
    "  decoded_text = text.decode('utf-8')\n",
    "  text = decoded_text.lower()\n",
    "  tokens = tokenizer.tokenize(text)\n",
    "  punct = list(string.punctuation) \n",
    "  stopword_list = stopwords.words('english') + punct\n",
    "  return [tok for tok in tokens if tok not in stopword_list and not  \n",
    "          tok.isdigit() and not tok.startswith(('#', '@', 'https')) and len(tok) > 3]"
   ]
  },
  {
   "cell_type": "code",
   "execution_count": 66,
   "metadata": {},
   "outputs": [],
   "source": [
    "tweet_tokenizer = TweetTokenizer()"
   ]
  },
  {
   "cell_type": "code",
   "execution_count": 67,
   "metadata": {},
   "outputs": [
    {
     "data": {
      "text/plain": [
       "'Facebook now allows EU-wide political campaign ads for the European Parliament and EU political groups. Two EP insiders said their ads/ad tests were authorized across Europe. #EUelections2019 https://t.co/NjtD6idd3c'"
      ]
     },
     "execution_count": 67,
     "metadata": {},
     "output_type": "execute_result"
    }
   ],
   "source": [
    "text_filtered = df[df[\"lang\"] == \"en\"]\n",
    "text_filtered[\"text\"].iloc[0]"
   ]
  },
  {
   "cell_type": "code",
   "execution_count": 68,
   "metadata": {},
   "outputs": [
    {
     "data": {
      "text/plain": [
       "[u'facebook allows eu-wide political campaign european parliament political groups insiders said tests authorized across europe',\n",
       " u'truth matter many times people scotland demand right choose independence secretary',\n",
       " u'stop farage becoming face britain back supporting party find whic',\n",
       " u'year span hearings content warning exposed many paedophiles',\n",
       " u'postal votes start come letter help wipe smile face choice']"
      ]
     },
     "execution_count": 68,
     "metadata": {},
     "output_type": "execute_result"
    }
   ],
   "source": [
    "english_text = (text_filtered[\"text\"]).apply(process)\n",
    "english_text_blob = [' '.join(x) for x in english_text]\n",
    "english_text_blob[:5]"
   ]
  },
  {
   "cell_type": "code",
   "execution_count": 55,
   "metadata": {},
   "outputs": [],
   "source": [
    "from sklearn.feature_extraction.text import TfidfVectorizer\n",
    "from sklearn.cluster import KMeans\n",
    "from sklearn.metrics import adjusted_rand_score"
   ]
  },
  {
   "cell_type": "code",
   "execution_count": 56,
   "metadata": {},
   "outputs": [],
   "source": [
    "vectorizer = TfidfVectorizer()\n",
    "X = vectorizer.fit_transform(english_text_blob)"
   ]
  },
  {
   "cell_type": "code",
   "execution_count": 57,
   "metadata": {},
   "outputs": [
    {
     "data": {
      "text/plain": [
       "KMeans(algorithm='auto', copy_x=True, init='k-means++', max_iter=100,\n",
       "    n_clusters=3, n_init=1, n_jobs=None, precompute_distances='auto',\n",
       "    random_state=None, tol=0.0001, verbose=0)"
      ]
     },
     "execution_count": 57,
     "metadata": {},
     "output_type": "execute_result"
    }
   ],
   "source": [
    "true_k = 3\n",
    "model = KMeans(n_clusters=true_k, init='k-means++', max_iter=100, n_init=1)\n",
    "model.fit(X)"
   ]
  },
  {
   "cell_type": "code",
   "execution_count": 58,
   "metadata": {},
   "outputs": [
    {
     "name": "stdout",
     "output_type": "stream",
     "text": [
      "Top terms per cluster:\n",
      "Cluster 0:  vote  european  make  register  voting  elections  23rd  sure  poll  citizens  pro  party  planning  thursday  want  ahead  last  remain  europeans  parties\n",
      "Cluster 1:  climate  breakdown  ecologic  ecological  issues  important  gretathunberg  forget  brea  acting  decades  breakdo  tweet  outranks  unhabitatyouth  chrissy  brexit  thanks  thunberg  greta\n",
      "Cluster 2:  brexit  farage  people  party  nigel  ahead  remain  europe  european  labour  vote  candidates  evidence  today  want  time  voting  public  disabled  things\n"
     ]
    }
   ],
   "source": [
    "print(\"Top terms per cluster:\")\n",
    "order_centroids = model.cluster_centers_.argsort()[:, ::-1]\n",
    "terms = vectorizer.get_feature_names()\n",
    "for i in range(true_k):\n",
    "    print(\"Cluster %d:\" % i),\n",
    "    for ind in order_centroids[i, :20]:\n",
    "        print(' %s' % terms[ind]),\n",
    "    print"
   ]
  },
  {
   "cell_type": "code",
   "execution_count": 73,
   "metadata": {},
   "outputs": [],
   "source": [
    "def word_in_text(word, text):\n",
    "    word = word.lower()\n",
    "    text = text.lower()\n",
    "    match = re.search(word, text)\n",
    "    if match:\n",
    "        return 1\n",
    "    return 0"
   ]
  },
  {
   "cell_type": "code",
   "execution_count": 84,
   "metadata": {},
   "outputs": [],
   "source": [
    "df['top'] = df['text'].apply(lambda tweet: word_in_text('RT @GretaThunberg: The top 5 most important ', tweet))"
   ]
  },
  {
   "cell_type": "code",
   "execution_count": null,
   "metadata": {},
   "outputs": [],
   "source": []
  }
 ],
 "metadata": {
  "kernelspec": {
   "display_name": "Python 3",
   "language": "python",
   "name": "python3"
  },
  "language_info": {
   "codemirror_mode": {
    "name": "ipython",
    "version": 3
   },
   "file_extension": ".py",
   "mimetype": "text/x-python",
   "name": "python",
   "nbconvert_exporter": "python",
   "pygments_lexer": "ipython3",
   "version": "3.8.5"
  }
 },
 "nbformat": 4,
 "nbformat_minor": 2
}
